{
 "cells": [
  {
   "cell_type": "markdown",
   "id": "c66776a4",
   "metadata": {},
   "source": [
    "# Global energy consumption and reliability on consumable fuels​"
   ]
  },
  {
   "cell_type": "markdown",
   "id": "79757383",
   "metadata": {},
   "source": [
    "## Authors\n",
    "- Darko Bashukoski\n",
    "- Kristijan Pucoski\n",
    "- Nikola Simjanovski\n",
    "- Edin Tufek"
   ]
  },
  {
   "cell_type": "markdown",
   "id": "1de74d76",
   "metadata": {},
   "source": [
    "## Imports"
   ]
  },
  {
   "cell_type": "code",
   "execution_count": 3,
   "id": "ff71053a",
   "metadata": {},
   "outputs": [
    {
     "ename": "ModuleNotFoundError",
     "evalue": "No module named 'geopandas'",
     "output_type": "error",
     "traceback": [
      "\u001b[1;31m---------------------------------------------------------------------------\u001b[0m",
      "\u001b[1;31mModuleNotFoundError\u001b[0m                       Traceback (most recent call last)",
      "Input \u001b[1;32mIn [3]\u001b[0m, in \u001b[0;36m<cell line: 7>\u001b[1;34m()\u001b[0m\n\u001b[0;32m      5\u001b[0m \u001b[38;5;28;01mimport\u001b[39;00m \u001b[38;5;21;01mpandas\u001b[39;00m \u001b[38;5;28;01mas\u001b[39;00m \u001b[38;5;21;01mpd\u001b[39;00m\n\u001b[0;32m      6\u001b[0m \u001b[38;5;28;01mfrom\u001b[39;00m \u001b[38;5;21;01mcollections\u001b[39;00m \u001b[38;5;28;01mimport\u001b[39;00m Counter\n\u001b[1;32m----> 7\u001b[0m \u001b[38;5;28;01mimport\u001b[39;00m \u001b[38;5;21;01mgeopandas\u001b[39;00m\n",
      "\u001b[1;31mModuleNotFoundError\u001b[0m: No module named 'geopandas'"
     ]
    }
   ],
   "source": [
    "import csv\n",
    "import numpy as np\n",
    "import matplotlib.pyplot as plt\n",
    "import collections\n",
    "import pandas as pd\n",
    "from collections import Counter\n",
    "import geopandas"
   ]
  },
  {
   "cell_type": "markdown",
   "id": "b399543f",
   "metadata": {},
   "source": [
    "## Organizing and Filtering Data\n",
    "To get started we had to organize our data in a way that would enable us to efficienty and quickly work with it. As it had 122 attributes, we needed to select which ones we would use, so we selected around 20 of the most useful ones. The data set also contained rows for areas like `Europe`, `World`, etc. This did not make sense as they were not countries, but totals of multiple countries. We decided to remove them as they would cause a problem because they would be duplicate data. We also decided to only use data that was after the year 1965 as there was a lot of missing data for previous years. The last thing we did was separate the data into multiple tables to get a better separation of attributes that were not related to each other."
   ]
  },
  {
   "cell_type": "code",
   "execution_count": 2,
   "id": "94ed8210",
   "metadata": {},
   "outputs": [],
   "source": [
    "def replaceEmptyValue(value):\n",
    "    return 0 if value == '' else value\n",
    "\n",
    "rawData = csv.DictReader(open('Data/WorldEnergyConsumption.csv', 'rt', encoding='utf-8'))\n",
    "consumptionFile = open('Data/ConsumptionData', 'w', newline='', encoding='utf-8')\n",
    "productionFile = open('Data/ProductionData', 'w', newline='', encoding='utf-8')\n",
    "populationFile = open('Data/PopulationData', 'w', newline='', encoding='utf-8')\n",
    "\n",
    "consumptionWriter = csv.writer(consumptionFile)\n",
    "productionWriter = csv.writer(productionFile)\n",
    "populationWriter = csv.writer(populationFile)\n",
    "\n",
    "fuelTypes = [\"biofuel\", \"coal\", \"fossil\", \"gas\", \"hydro\", \"low_carbon\", \"nuclear\", \"oil\", \"solar\", \"wind\"]\n",
    "ignore = [\"World\", \"Europe\", \"Middle East\", \"Africa\", \"South Africa\", \"Eastern Africa\", \"Middle Africa\",\n",
    "          \"Western Africa\", \"Asia Pacific\", \"Central America\", \"North America\", \"South & Central America\"]\n",
    "\n",
    "consumptionWriter.writerow([\"country\", \"year\"] + fuelTypes)\n",
    "productionWriter.writerow([\"country\", \"year\"] + fuelTypes)\n",
    "populationWriter.writerow([\"country\", \"year\", \"population\"])\n",
    "countries = set()\n",
    "\n",
    "for row in rawData:\n",
    "    if row[\"country\"] in ignore or int(row[\"year\"]) < 1965 or int(row[\"year\"]) == 2020:\n",
    "        continue\n",
    "    \n",
    "    consumptionRow = []\n",
    "    productionRow = []\n",
    "    populationRow = []\n",
    "    \n",
    "    countries.add(row[\"country\"])\n",
    "    \n",
    "    for key in [\"country\", \"year\"] + [x+\"_consumption\" for x in fuelTypes]:\n",
    "        consumptionRow.append(replaceEmptyValue(row[key]))\n",
    "    \n",
    "    for key in [\"country\", \"year\"] + [x+\"_electricity\" for x in fuelTypes]:\n",
    "        productionRow.append(replaceEmptyValue(row[key]))\n",
    "        \n",
    "    for key in [\"country\", \"year\", \"population\"]:\n",
    "        populationRow.append(replaceEmptyValue(row[key]))\n",
    "\n",
    "    consumptionWriter.writerow(consumptionRow)\n",
    "    productionWriter.writerow(productionRow)\n",
    "    populationWriter.writerow(populationRow)"
   ]
  },
  {
   "cell_type": "markdown",
   "id": "a545f250",
   "metadata": {},
   "source": [
    "## Consumption per Country\n",
    "The first thing we wanted to check was which countries consumed the most energy. We also wanted to know how much of the used energy came from consumable and how much from renewable sources. The results we got are presented it the form of a bar chart where the blue part of the bars is consumable fuels and the green is renewable. The country with the highest energy consumption is `China` and we also found that renewable fuels are used a shockingly low amount."
   ]
  },
  {
   "cell_type": "code",
   "execution_count": null,
   "id": "c556fc04",
   "metadata": {},
   "outputs": [],
   "source": [
    "rawData = pd.read_csv('Data/ConsumptionData')\n",
    "populationData = pd.read_csv('Data/PopulationData')\n",
    "rawData1 = rawData.where(rawData[\"year\"] == 2019).dropna()\n",
    "\n",
    "renewable = [\"hydro\",\"solar\",\"wind\"]\n",
    "nonrenewable =  [\"biofuel\", \"coal\", \"fossil\", \"gas\", \"low_carbon\", \"nuclear\", \"oil\"]\n",
    "\n",
    "countryConsumption = {}\n",
    "for r in list(rawData1[\"country\"]):\n",
    "    for x in fuelTypes:\n",
    "        if r not in countryConsumption.keys():\n",
    "            countryConsumption[r] = 0.0\n",
    "        countryConsumption[r] += float(rawData1[rawData1[\"country\"] == r][x])    \n",
    "        \n",
    "countryConsumptionSorted = {k: v for k, v in sorted(countryConsumption.items(), key=lambda item: item[1],reverse=True)}\n",
    "\n",
    "renewableC = {}\n",
    "nonrenewableC = {}\n",
    "for r in countryConsumptionSorted:\n",
    "    for x in renewable:\n",
    "        if r not in renewableC.keys():\n",
    "            renewableC[r] = 0.0\n",
    "        renewableC[r] += float(rawData1[rawData1[\"country\"] == r][x])  \n",
    "    for x in nonrenewable:\n",
    "        if r not in nonrenewableC.keys():\n",
    "            nonrenewableC[r] = 0.0\n",
    "        nonrenewableC[r] += float(rawData1[rawData1[\"country\"] == r][x])\n",
    "        \n",
    "x = list(renewableC.keys())[:20]\n",
    "non = list(nonrenewableC.values())[:20]\n",
    "re = list(renewableC.values())[:20]\n",
    "\n",
    "plt.figure(figsize=(15, 10))\n",
    "ax = plt.subplot(111)\n",
    "ax.bar(x, non, label=\"Non Renewable\")\n",
    "ax.bar(x, re, color='g', label=\"Renewable\")\n",
    "ax.set_xlabel('Countries')\n",
    "ax.set_ylabel('Consumption')\n",
    "plt.xticks(rotation=90)\n",
    "plt.legend()\n",
    "\n",
    "plt.show();"
   ]
  },
  {
   "cell_type": "markdown",
   "id": "b782479b",
   "metadata": {},
   "source": [
    "Becouse there are hundreds of countries, it would not make sense to plot them all on the graph, so we used a map to get a better visualization of the data."
   ]
  },
  {
   "cell_type": "code",
   "execution_count": 4,
   "id": "142335a4",
   "metadata": {},
   "outputs": [
    {
     "ename": "NameError",
     "evalue": "name 'geopandas' is not defined",
     "output_type": "error",
     "traceback": [
      "\u001b[1;31m---------------------------------------------------------------------------\u001b[0m",
      "\u001b[1;31mNameError\u001b[0m                                 Traceback (most recent call last)",
      "Input \u001b[1;32mIn [4]\u001b[0m, in \u001b[0;36m<cell line: 1>\u001b[1;34m()\u001b[0m\n\u001b[1;32m----> 1\u001b[0m world \u001b[38;5;241m=\u001b[39m \u001b[43mgeopandas\u001b[49m\u001b[38;5;241m.\u001b[39mread_file(geopandas\u001b[38;5;241m.\u001b[39mdatasets\u001b[38;5;241m.\u001b[39mget_path(\u001b[38;5;124m'\u001b[39m\u001b[38;5;124mnaturalearth_lowres\u001b[39m\u001b[38;5;124m'\u001b[39m))\n\u001b[0;32m      2\u001b[0m world \u001b[38;5;241m=\u001b[39m world[(world\u001b[38;5;241m.\u001b[39mname\u001b[38;5;241m!=\u001b[39m\u001b[38;5;124m\"\u001b[39m\u001b[38;5;124mAntarctica\u001b[39m\u001b[38;5;124m\"\u001b[39m)]\n\u001b[0;32m      3\u001b[0m world[\u001b[38;5;124m'\u001b[39m\u001b[38;5;124mname\u001b[39m\u001b[38;5;124m'\u001b[39m]\u001b[38;5;241m.\u001b[39mmask(world[\u001b[38;5;124m'\u001b[39m\u001b[38;5;124mname\u001b[39m\u001b[38;5;124m'\u001b[39m] \u001b[38;5;241m==\u001b[39m \u001b[38;5;124m'\u001b[39m\u001b[38;5;124mW. Sahara\u001b[39m\u001b[38;5;124m'\u001b[39m, \u001b[38;5;124m'\u001b[39m\u001b[38;5;124mWestern Sahara\u001b[39m\u001b[38;5;124m'\u001b[39m, inplace\u001b[38;5;241m=\u001b[39m\u001b[38;5;28;01mTrue\u001b[39;00m)\n",
      "\u001b[1;31mNameError\u001b[0m: name 'geopandas' is not defined"
     ]
    }
   ],
   "source": [
    "world = geopandas.read_file(geopandas.datasets.get_path('naturalearth_lowres'))\n",
    "world = world[(world.name!=\"Antarctica\")]\n",
    "world['name'].mask(world['name'] == 'W. Sahara', 'Western Sahara', inplace=True)\n",
    "world['name'].mask(world['name'] == 'United States of America', 'United States', inplace=True)\n",
    "world['name'].mask(world['name'] == 'Macedonia', 'North Macedonia', inplace=True)\n",
    "world['name'].mask(world['name'] == 'Bosnia and Herz.', 'Bosnia and Herzegovina', inplace=True)\n",
    "world['name'].mask(world['name'] == 'S. Sudan', 'South Sudan', inplace=True)\n",
    "world['name'].mask(world['name'] == 'Dem. Rep. Congo', 'Democratic Republic of Congo', inplace=True)\n",
    "world['name'].mask(world['name'] == 'Central African Rep.', 'Central African Republic', inplace=True)\n",
    "world['name'].mask(world['name'] == 'Eq. Guinea', 'Equatorial Guinea', inplace=True)\n",
    "world['name'].mask(world['name'] == 'Solomon Is.', 'Solomon Islands', inplace=True)\n",
    "world['name'].mask(world['name'] == 'Dominican Rep.', 'Dominican Republic', inplace=True)\n",
    "\n",
    "def drawMap(d,text):\n",
    "    mapData = pd.DataFrame.from_dict({\"country\":d.keys(),\"usage\":d.values()})\n",
    "    mapTable = world.merge(mapData, how=\"left\", left_on=['name'], right_on=['country'])\n",
    "\n",
    "    fig, ax = plt.subplots(figsize=(17,10))\n",
    "    mapTable.plot(ax=ax,column='usage',\n",
    "              edgecolor=\"black\", linewidth=0.7,\n",
    "              cmap='turbo',\n",
    "              legend=True,\n",
    "              legend_kwds={'label': text, 'orientation': \"horizontal\"},\n",
    "              missing_kwds={\"color\": \"lightgrey\", \"label\": \"Missing values\", \"hatch\": \"///\"});\n",
    "    \n",
    "drawMap(countryConsumptionSorted, \"Usage per Country\")"
   ]
  },
  {
   "cell_type": "code",
   "execution_count": null,
   "id": "919708b1",
   "metadata": {},
   "outputs": [],
   "source": []
  }
 ],
 "metadata": {
  "kernelspec": {
   "display_name": "Python 3 (ipykernel)",
   "language": "python",
   "name": "python3"
  },
  "language_info": {
   "codemirror_mode": {
    "name": "ipython",
    "version": 3
   },
   "file_extension": ".py",
   "mimetype": "text/x-python",
   "name": "python",
   "nbconvert_exporter": "python",
   "pygments_lexer": "ipython3",
   "version": "3.10.2"
  }
 },
 "nbformat": 4,
 "nbformat_minor": 5
}
