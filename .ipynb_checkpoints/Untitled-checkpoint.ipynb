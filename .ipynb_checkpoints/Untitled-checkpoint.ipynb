{
 "cells": [
  {
   "cell_type": "code",
   "execution_count": 21,
   "id": "25a13d6f",
   "metadata": {},
   "outputs": [],
   "source": [
    "import csv\n",
    "\n",
    "def replaceEmptyValue(value):\n",
    "    return 0 if value == '' else value\n",
    "\n",
    "rawData = csv.DictReader(open('Data/WorldEnergyConsumption.csv', 'rt', encoding='utf-8'))\n",
    "consumptionFile = open('Data/ConsumptionData', 'w', newline='', encoding='utf-8')\n",
    "productionFile = open('Data/ProductionData', 'w', newline='', encoding='utf-8')\n",
    "\n",
    "consumptionWriter = csv.writer(consumptionFile)\n",
    "productionWriter = csv.writer(productionFile)\n",
    "\n",
    "dataList = [\"biofuel\", \"coal\", \"fossil\", \"gas\", \"hydro\", \"low_carbon\", \"nuclear\", \"oil\", \"solar\", \"wind\"]\n",
    "\n",
    "consumptionWriter.writerow([\"country\", \"year\"] + dataList)\n",
    "productionWriter.writerow([\"country\", \"year\"] + dataList)\n",
    "\n",
    "for row in rawData:\n",
    "    consumptionRow = []\n",
    "    productionRow = []\n",
    "    \n",
    "    for key in [\"country\", \"year\"] + [x+\"_consumption\" for x in dataList]:\n",
    "        consumptionRow.append(replaceEmptyValue(row[key]))\n",
    "    \n",
    "    for key in [\"country\", \"year\"] + [x+\"_electricity\" for x in dataList]:\n",
    "        productionRow.append(replaceEmptyValue(row[key]))\n",
    "\n",
    "    consumptionWriter.writerow(consumptionRow)\n",
    "    productionWriter.writerow(productionRow)"
   ]
  },
  {
   "cell_type": "code",
   "execution_count": 18,
   "id": "6c9ddabf",
   "metadata": {},
   "outputs": [
    {
     "name": "stdout",
     "output_type": "stream",
     "text": [
      "dict_keys(['iso_code', 'country', 'year', 'coal_prod_change_pct', 'coal_prod_change_twh', 'gas_prod_change_pct', 'gas_prod_change_twh', 'oil_prod_change_pct', 'oil_prod_change_twh', 'energy_cons_change_pct', 'energy_cons_change_twh', 'biofuel_share_elec', 'biofuel_elec_per_capita', 'biofuel_cons_change_pct', 'biofuel_share_energy', 'biofuel_cons_change_twh', 'biofuel_consumption', 'biofuel_cons_per_capita', 'carbon_intensity_elec', 'coal_share_elec', 'coal_cons_change_pct', 'coal_share_energy', 'coal_cons_change_twh', 'coal_consumption', 'coal_elec_per_capita', 'coal_cons_per_capita', 'coal_production', 'coal_prod_per_capita', 'electricity_generation', 'biofuel_electricity', 'coal_electricity', 'fossil_electricity', 'gas_electricity', 'hydro_electricity', 'nuclear_electricity', 'oil_electricity', 'other_renewable_electricity', 'other_renewable_exc_biofuel_electricity', 'renewables_electricity', 'solar_electricity', 'wind_electricity', 'energy_per_gdp', 'energy_per_capita', 'fossil_cons_change_pct', 'fossil_share_energy', 'fossil_cons_change_twh', 'fossil_fuel_consumption', 'fossil_energy_per_capita', 'fossil_cons_per_capita', 'fossil_share_elec', 'gas_share_elec', 'gas_cons_change_pct', 'gas_share_energy', 'gas_cons_change_twh', 'gas_consumption', 'gas_elec_per_capita', 'gas_energy_per_capita', 'gas_production', 'gas_prod_per_capita', 'hydro_share_elec', 'hydro_cons_change_pct', 'hydro_share_energy', 'hydro_cons_change_twh', 'hydro_consumption', 'hydro_elec_per_capita', 'hydro_energy_per_capita', 'low_carbon_share_elec', 'low_carbon_electricity', 'low_carbon_elec_per_capita', 'low_carbon_cons_change_pct', 'low_carbon_share_energy', 'low_carbon_cons_change_twh', 'low_carbon_consumption', 'low_carbon_energy_per_capita', 'nuclear_share_elec', 'nuclear_cons_change_pct', 'nuclear_share_energy', 'nuclear_cons_change_twh', 'nuclear_consumption', 'nuclear_elec_per_capita', 'nuclear_energy_per_capita', 'oil_share_elec', 'oil_cons_change_pct', 'oil_share_energy', 'oil_cons_change_twh', 'oil_consumption', 'oil_elec_per_capita', 'oil_energy_per_capita', 'oil_production', 'oil_prod_per_capita', 'other_renewables_elec_per_capita', 'other_renewables_share_elec', 'other_renewables_cons_change_pct', 'other_renewables_share_energy', 'other_renewables_cons_change_twh', 'other_renewable_consumption', 'other_renewables_energy_per_capita', 'per_capita_electricity', 'population', 'primary_energy_consumption', 'renewables_elec_per_capita', 'renewables_share_elec', 'renewables_cons_change_pct', 'renewables_share_energy', 'renewables_cons_change_twh', 'renewables_consumption', 'renewables_energy_per_capita', 'solar_share_elec', 'solar_cons_change_pct', 'solar_share_energy', 'solar_cons_change_twh', 'solar_consumption', 'solar_elec_per_capita', 'solar_energy_per_capita', 'gdp', 'wind_share_elec', 'wind_cons_change_pct', 'wind_share_energy', 'wind_cons_change_twh', 'wind_consumption', 'wind_elec_per_capita', 'wind_energy_per_capita'])\n"
     ]
    }
   ],
   "source": [
    "rawData = DictReader(open('Data/WorldEnergyConsumption.csv', 'rt', encoding='utf-8'))\n",
    "for x in rawData:\n",
    "    print(x.keys())\n",
    "    break"
   ]
  },
  {
   "cell_type": "code",
   "execution_count": 12,
   "id": "e2cefcfa",
   "metadata": {},
   "outputs": [
    {
     "name": "stdout",
     "output_type": "stream",
     "text": [
      "1,2,3\n"
     ]
    }
   ],
   "source": [
    "arr = [\"1\", \"2\", \"3\"]\n",
    "print(\",\".join(arr))"
   ]
  },
  {
   "cell_type": "code",
   "execution_count": null,
   "id": "7bf553a6",
   "metadata": {},
   "outputs": [],
   "source": []
  }
 ],
 "metadata": {
  "kernelspec": {
   "display_name": "Python 3 (ipykernel)",
   "language": "python",
   "name": "python3"
  },
  "language_info": {
   "codemirror_mode": {
    "name": "ipython",
    "version": 3
   },
   "file_extension": ".py",
   "mimetype": "text/x-python",
   "name": "python",
   "nbconvert_exporter": "python",
   "pygments_lexer": "ipython3",
   "version": "3.10.2"
  }
 },
 "nbformat": 4,
 "nbformat_minor": 5
}
